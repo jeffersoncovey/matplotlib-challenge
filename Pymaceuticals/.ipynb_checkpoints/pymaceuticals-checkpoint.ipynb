{
 "cells": [
  {
   "cell_type": "markdown",
   "metadata": {},
   "source": [
    "## Observations and Insights"
   ]
  },
  {
   "cell_type": "markdown",
   "metadata": {},
   "source": []
  },
  {
   "cell_type": "markdown",
   "metadata": {},
   "source": [
    "## Dependencies and starter code"
   ]
  },
  {
   "cell_type": "code",
   "execution_count": 1,
   "metadata": {},
   "outputs": [
    {
     "data": {
      "text/html": [
       "<div>\n",
       "<style scoped>\n",
       "    .dataframe tbody tr th:only-of-type {\n",
       "        vertical-align: middle;\n",
       "    }\n",
       "\n",
       "    .dataframe tbody tr th {\n",
       "        vertical-align: top;\n",
       "    }\n",
       "\n",
       "    .dataframe thead th {\n",
       "        text-align: right;\n",
       "    }\n",
       "</style>\n",
       "<table border=\"1\" class=\"dataframe\">\n",
       "  <thead>\n",
       "    <tr style=\"text-align: right;\">\n",
       "      <th></th>\n",
       "      <th>Mouse ID</th>\n",
       "      <th>Drug Regimen</th>\n",
       "      <th>Sex</th>\n",
       "      <th>Age_months</th>\n",
       "      <th>Weight (g)</th>\n",
       "      <th>Timepoint</th>\n",
       "      <th>Tumor Volume (mm3)</th>\n",
       "      <th>Metastatic Sites</th>\n",
       "    </tr>\n",
       "  </thead>\n",
       "  <tbody>\n",
       "    <tr>\n",
       "      <td>0</td>\n",
       "      <td>k403</td>\n",
       "      <td>Ramicane</td>\n",
       "      <td>Male</td>\n",
       "      <td>21</td>\n",
       "      <td>16</td>\n",
       "      <td>0</td>\n",
       "      <td>45.000000</td>\n",
       "      <td>0</td>\n",
       "    </tr>\n",
       "    <tr>\n",
       "      <td>1</td>\n",
       "      <td>k403</td>\n",
       "      <td>Ramicane</td>\n",
       "      <td>Male</td>\n",
       "      <td>21</td>\n",
       "      <td>16</td>\n",
       "      <td>5</td>\n",
       "      <td>38.825898</td>\n",
       "      <td>0</td>\n",
       "    </tr>\n",
       "    <tr>\n",
       "      <td>2</td>\n",
       "      <td>k403</td>\n",
       "      <td>Ramicane</td>\n",
       "      <td>Male</td>\n",
       "      <td>21</td>\n",
       "      <td>16</td>\n",
       "      <td>10</td>\n",
       "      <td>35.014271</td>\n",
       "      <td>1</td>\n",
       "    </tr>\n",
       "    <tr>\n",
       "      <td>3</td>\n",
       "      <td>k403</td>\n",
       "      <td>Ramicane</td>\n",
       "      <td>Male</td>\n",
       "      <td>21</td>\n",
       "      <td>16</td>\n",
       "      <td>15</td>\n",
       "      <td>34.223992</td>\n",
       "      <td>1</td>\n",
       "    </tr>\n",
       "    <tr>\n",
       "      <td>4</td>\n",
       "      <td>k403</td>\n",
       "      <td>Ramicane</td>\n",
       "      <td>Male</td>\n",
       "      <td>21</td>\n",
       "      <td>16</td>\n",
       "      <td>20</td>\n",
       "      <td>32.997729</td>\n",
       "      <td>1</td>\n",
       "    </tr>\n",
       "    <tr>\n",
       "      <td>...</td>\n",
       "      <td>...</td>\n",
       "      <td>...</td>\n",
       "      <td>...</td>\n",
       "      <td>...</td>\n",
       "      <td>...</td>\n",
       "      <td>...</td>\n",
       "      <td>...</td>\n",
       "      <td>...</td>\n",
       "    </tr>\n",
       "    <tr>\n",
       "      <td>95</td>\n",
       "      <td>u364</td>\n",
       "      <td>Capomulin</td>\n",
       "      <td>Male</td>\n",
       "      <td>18</td>\n",
       "      <td>17</td>\n",
       "      <td>0</td>\n",
       "      <td>45.000000</td>\n",
       "      <td>0</td>\n",
       "    </tr>\n",
       "    <tr>\n",
       "      <td>96</td>\n",
       "      <td>u364</td>\n",
       "      <td>Capomulin</td>\n",
       "      <td>Male</td>\n",
       "      <td>18</td>\n",
       "      <td>17</td>\n",
       "      <td>5</td>\n",
       "      <td>45.760886</td>\n",
       "      <td>1</td>\n",
       "    </tr>\n",
       "    <tr>\n",
       "      <td>97</td>\n",
       "      <td>u364</td>\n",
       "      <td>Capomulin</td>\n",
       "      <td>Male</td>\n",
       "      <td>18</td>\n",
       "      <td>17</td>\n",
       "      <td>10</td>\n",
       "      <td>46.568417</td>\n",
       "      <td>2</td>\n",
       "    </tr>\n",
       "    <tr>\n",
       "      <td>98</td>\n",
       "      <td>u364</td>\n",
       "      <td>Capomulin</td>\n",
       "      <td>Male</td>\n",
       "      <td>18</td>\n",
       "      <td>17</td>\n",
       "      <td>15</td>\n",
       "      <td>47.212200</td>\n",
       "      <td>2</td>\n",
       "    </tr>\n",
       "    <tr>\n",
       "      <td>99</td>\n",
       "      <td>u364</td>\n",
       "      <td>Capomulin</td>\n",
       "      <td>Male</td>\n",
       "      <td>18</td>\n",
       "      <td>17</td>\n",
       "      <td>20</td>\n",
       "      <td>40.343948</td>\n",
       "      <td>2</td>\n",
       "    </tr>\n",
       "  </tbody>\n",
       "</table>\n",
       "<p>100 rows × 8 columns</p>\n",
       "</div>"
      ],
      "text/plain": [
       "   Mouse ID Drug Regimen   Sex  Age_months  Weight (g)  Timepoint  \\\n",
       "0      k403     Ramicane  Male          21          16          0   \n",
       "1      k403     Ramicane  Male          21          16          5   \n",
       "2      k403     Ramicane  Male          21          16         10   \n",
       "3      k403     Ramicane  Male          21          16         15   \n",
       "4      k403     Ramicane  Male          21          16         20   \n",
       "..      ...          ...   ...         ...         ...        ...   \n",
       "95     u364    Capomulin  Male          18          17          0   \n",
       "96     u364    Capomulin  Male          18          17          5   \n",
       "97     u364    Capomulin  Male          18          17         10   \n",
       "98     u364    Capomulin  Male          18          17         15   \n",
       "99     u364    Capomulin  Male          18          17         20   \n",
       "\n",
       "    Tumor Volume (mm3)  Metastatic Sites  \n",
       "0            45.000000                 0  \n",
       "1            38.825898                 0  \n",
       "2            35.014271                 1  \n",
       "3            34.223992                 1  \n",
       "4            32.997729                 1  \n",
       "..                 ...               ...  \n",
       "95           45.000000                 0  \n",
       "96           45.760886                 1  \n",
       "97           46.568417                 2  \n",
       "98           47.212200                 2  \n",
       "99           40.343948                 2  \n",
       "\n",
       "[100 rows x 8 columns]"
      ]
     },
     "execution_count": 1,
     "metadata": {},
     "output_type": "execute_result"
    }
   ],
   "source": [
    "# Dependencies and Setup\n",
    "import matplotlib.pyplot as plt\n",
    "import pandas as pd\n",
    "import scipy.stats as st\n",
    "\n",
    "# Study data files\n",
    "mouse_metadata = \"data/Mouse_metadata.csv\"\n",
    "study_results = \"data/Study_results.csv\"\n",
    "\n",
    "# Read the mouse data and the study results\n",
    "mouse_metadata = pd.read_csv(mouse_metadata)\n",
    "study_results = pd.read_csv(study_results)\n",
    "\n",
    "# Combine the data into a single dataset\n",
    "combined_df = pd.merge(mouse_metadata, study_results, on = \"Mouse ID\")\n",
    "combined_df.head(100)"
   ]
  },
  {
   "cell_type": "markdown",
   "metadata": {},
   "source": [
    "## Summary statistics"
   ]
  },
  {
   "cell_type": "code",
   "execution_count": 2,
   "metadata": {},
   "outputs": [
    {
     "data": {
      "text/html": [
       "<div>\n",
       "<style scoped>\n",
       "    .dataframe tbody tr th:only-of-type {\n",
       "        vertical-align: middle;\n",
       "    }\n",
       "\n",
       "    .dataframe tbody tr th {\n",
       "        vertical-align: top;\n",
       "    }\n",
       "\n",
       "    .dataframe thead th {\n",
       "        text-align: right;\n",
       "    }\n",
       "</style>\n",
       "<table border=\"1\" class=\"dataframe\">\n",
       "  <thead>\n",
       "    <tr style=\"text-align: right;\">\n",
       "      <th></th>\n",
       "      <th>Tumor Volume (Mean)</th>\n",
       "      <th>Tumor Volume (Median)</th>\n",
       "      <th>Tumor Volume (Variance)</th>\n",
       "      <th>Tumor Volume (St.Dev.)</th>\n",
       "      <th>Tumor Volume (SEM)</th>\n",
       "    </tr>\n",
       "    <tr>\n",
       "      <th>Drug Regimen</th>\n",
       "      <th></th>\n",
       "      <th></th>\n",
       "      <th></th>\n",
       "      <th></th>\n",
       "      <th></th>\n",
       "    </tr>\n",
       "  </thead>\n",
       "  <tbody>\n",
       "    <tr>\n",
       "      <td>Capomulin</td>\n",
       "      <td>40.675741</td>\n",
       "      <td>41.557809</td>\n",
       "      <td>24.947764</td>\n",
       "      <td>4.994774</td>\n",
       "      <td>0.329346</td>\n",
       "    </tr>\n",
       "    <tr>\n",
       "      <td>Ceftamin</td>\n",
       "      <td>52.591172</td>\n",
       "      <td>51.776157</td>\n",
       "      <td>39.290177</td>\n",
       "      <td>6.268188</td>\n",
       "      <td>0.469821</td>\n",
       "    </tr>\n",
       "    <tr>\n",
       "      <td>Infubinol</td>\n",
       "      <td>52.884795</td>\n",
       "      <td>51.820584</td>\n",
       "      <td>43.128684</td>\n",
       "      <td>6.567243</td>\n",
       "      <td>0.492236</td>\n",
       "    </tr>\n",
       "    <tr>\n",
       "      <td>Ketapril</td>\n",
       "      <td>55.235638</td>\n",
       "      <td>53.698743</td>\n",
       "      <td>68.553577</td>\n",
       "      <td>8.279709</td>\n",
       "      <td>0.603860</td>\n",
       "    </tr>\n",
       "    <tr>\n",
       "      <td>Naftisol</td>\n",
       "      <td>54.331565</td>\n",
       "      <td>52.509285</td>\n",
       "      <td>66.173479</td>\n",
       "      <td>8.134708</td>\n",
       "      <td>0.596466</td>\n",
       "    </tr>\n",
       "    <tr>\n",
       "      <td>Placebo</td>\n",
       "      <td>54.033581</td>\n",
       "      <td>52.288934</td>\n",
       "      <td>61.168083</td>\n",
       "      <td>7.821003</td>\n",
       "      <td>0.581331</td>\n",
       "    </tr>\n",
       "    <tr>\n",
       "      <td>Propriva</td>\n",
       "      <td>52.322552</td>\n",
       "      <td>50.854632</td>\n",
       "      <td>42.351070</td>\n",
       "      <td>6.507770</td>\n",
       "      <td>0.512884</td>\n",
       "    </tr>\n",
       "    <tr>\n",
       "      <td>Ramicane</td>\n",
       "      <td>40.216745</td>\n",
       "      <td>40.673236</td>\n",
       "      <td>23.486704</td>\n",
       "      <td>4.846308</td>\n",
       "      <td>0.320955</td>\n",
       "    </tr>\n",
       "    <tr>\n",
       "      <td>Stelasyn</td>\n",
       "      <td>54.233149</td>\n",
       "      <td>52.431737</td>\n",
       "      <td>59.450562</td>\n",
       "      <td>7.710419</td>\n",
       "      <td>0.573111</td>\n",
       "    </tr>\n",
       "    <tr>\n",
       "      <td>Zoniferol</td>\n",
       "      <td>53.236507</td>\n",
       "      <td>51.818479</td>\n",
       "      <td>48.533355</td>\n",
       "      <td>6.966589</td>\n",
       "      <td>0.516398</td>\n",
       "    </tr>\n",
       "  </tbody>\n",
       "</table>\n",
       "</div>"
      ],
      "text/plain": [
       "              Tumor Volume (Mean)  Tumor Volume (Median)  \\\n",
       "Drug Regimen                                               \n",
       "Capomulin               40.675741              41.557809   \n",
       "Ceftamin                52.591172              51.776157   \n",
       "Infubinol               52.884795              51.820584   \n",
       "Ketapril                55.235638              53.698743   \n",
       "Naftisol                54.331565              52.509285   \n",
       "Placebo                 54.033581              52.288934   \n",
       "Propriva                52.322552              50.854632   \n",
       "Ramicane                40.216745              40.673236   \n",
       "Stelasyn                54.233149              52.431737   \n",
       "Zoniferol               53.236507              51.818479   \n",
       "\n",
       "              Tumor Volume (Variance)  Tumor Volume (St.Dev.)  \\\n",
       "Drug Regimen                                                    \n",
       "Capomulin                   24.947764                4.994774   \n",
       "Ceftamin                    39.290177                6.268188   \n",
       "Infubinol                   43.128684                6.567243   \n",
       "Ketapril                    68.553577                8.279709   \n",
       "Naftisol                    66.173479                8.134708   \n",
       "Placebo                     61.168083                7.821003   \n",
       "Propriva                    42.351070                6.507770   \n",
       "Ramicane                    23.486704                4.846308   \n",
       "Stelasyn                    59.450562                7.710419   \n",
       "Zoniferol                   48.533355                6.966589   \n",
       "\n",
       "              Tumor Volume (SEM)  \n",
       "Drug Regimen                      \n",
       "Capomulin               0.329346  \n",
       "Ceftamin                0.469821  \n",
       "Infubinol               0.492236  \n",
       "Ketapril                0.603860  \n",
       "Naftisol                0.596466  \n",
       "Placebo                 0.581331  \n",
       "Propriva                0.512884  \n",
       "Ramicane                0.320955  \n",
       "Stelasyn                0.573111  \n",
       "Zoniferol               0.516398  "
      ]
     },
     "execution_count": 2,
     "metadata": {},
     "output_type": "execute_result"
    }
   ],
   "source": [
    "# Generate a summary statistics table of mean, median, variance, standard deviation, and SEM of the tumor volume for each regimen'\n",
    "summary_table = {\n",
    "    \"Tumor Volume (Mean)\":\"\",\n",
    "    \"Tumor Volume (Median)\":\"\",\n",
    "    \"Tumor Volume (Variance)\":\"\",\n",
    "    \"Tumor Volume (St.Dev.)\":\"\",\n",
    "    \"Tumor Volume (SEM)\":\"\"\n",
    "}\n",
    "grouped_by_regimen = combined_df.groupby('Drug Regimen')\n",
    "summary_table[\"Tumor Volume (Mean)\"] = grouped_by_regimen[\"Tumor Volume (mm3)\"].mean()\n",
    "summary_table[\"Tumor Volume (Median)\"] = grouped_by_regimen[\"Tumor Volume (mm3)\"].median()\n",
    "summary_table[\"Tumor Volume (Variance)\"] = (grouped_by_regimen[\"Tumor Volume (mm3)\"]).var()\n",
    "summary_table[\"Tumor Volume (St.Dev.)\"] = (grouped_by_regimen[\"Tumor Volume (mm3)\"]).std()\n",
    "summary_table[\"Tumor Volume (SEM)\"] = (grouped_by_regimen[\"Tumor Volume (mm3)\"]).sem()\n",
    "\n",
    "summary_df = pd.DataFrame(summary_table)\n",
    "summary_df.head(25)"
   ]
  },
  {
   "cell_type": "markdown",
   "metadata": {},
   "source": [
    "## Bar plots"
   ]
  },
  {
   "cell_type": "code",
   "execution_count": 3,
   "metadata": {},
   "outputs": [
    {
     "data": {
      "text/plain": [
       "Text(0, 0.5, 'Regimen Count')"
      ]
     },
     "execution_count": 3,
     "metadata": {},
     "output_type": "execute_result"
    },
    {
     "data": {
      "image/png": "[encoded data removed]",
      "text/plain": [
       "<Figure size 432x288 with 1 Axes>"
      ]
     },
     "metadata": {
      "needs_background": "light"
     },
     "output_type": "display_data"
    }
   ],
   "source": [
    "# Generate a bar plot showing number of data points for each treatment regimen using pandas\n",
    "unique_df = combined_df.drop_duplicates(\"Mouse ID\", keep='first')\n",
    "unique_df = pd.DataFrame(unique_df[\"Drug Regimen\"].value_counts())\n",
    "unique_df.plot(kind = 'bar', legend = None, title = \"Mouse Treatment Regimen by Drug\")\n",
    "\n",
    "plt.xlabel(\"Drug Regimen\")\n",
    "plt.ylabel(\"Regimen Count\")"
   ]
  },
  {
   "cell_type": "code",
   "execution_count": 4,
   "metadata": {},
   "outputs": [
    {
     "data": {
      "text/plain": [
       "Text(0.5, 1, 'Mouse Treatment Regimen by Drug')"
      ]
     },
     "execution_count": 4,
     "metadata": {},
     "output_type": "execute_result"
    },
    {
     "data": {
      "image/png": "[encoded data removed]",
      "text/plain": [
       "<Figure size 432x288 with 1 Axes>"
      ]
     },
     "metadata": {
      "needs_background": "light"
     },
     "output_type": "display_data"
    }
   ],
   "source": [
    "# Generate a bar plot showing number of data points for each treatment regimen using pyplot\n",
    "sex_bar = pd.DataFrame(mouse_metadata[\"Drug Regimen\"].value_counts())\n",
    "sex_bar = sex_bar.reset_index()\n",
    "sex_bar = sex_bar.rename(columns = {\"Drug Regimen\":\"Treatment Count\", \"index\":\"Drug Regimen\"})\n",
    "x_axis = sex_bar[\"Drug Regimen\"]\n",
    "y_axis = sex_bar[\"Treatment Count\"]\n",
    "plt.bar(x_axis,y_axis)\n",
    "plt.tight_layout()\n",
    "plt.xlabel(\"Drug Regimen\")\n",
    "plt.xticks(rotation=90)\n",
    "plt.ylabel(\"Regimen Count\")\n",
    "plt.title(\"Mouse Treatment Regimen by Drug\")"
   ]
  },
  {
   "cell_type": "markdown",
   "metadata": {},
   "source": [
    "## Pie plots"
   ]
  },
  {
   "cell_type": "code",
   "execution_count": 5,
   "metadata": {},
   "outputs": [
    {
     "data": {
      "text/plain": [
       "<matplotlib.legend.Legend at 0x26a05c08cc8>"
      ]
     },
     "execution_count": 5,
     "metadata": {},
     "output_type": "execute_result"
    },
    {
     "data": {
      "image/png": "[encoded data removed]",
      "text/plain": [
       "<Figure size 432x288 with 1 Axes>"
      ]
     },
     "metadata": {},
     "output_type": "display_data"
    }
   ],
   "source": [
    "# Generate a pie plot showing the distribution of female versus male mice using pandas\n",
    "sex_pie = mouse_metadata[\"Sex\"].value_counts()\n",
    "sex_pie = pd.DataFrame(sex_pie)\n",
    "\n",
    "sex_pie.plot(kind='pie', subplots=True, autopct=\"%1.1f%%\")\n",
    "plt.title(\"Mouse Distribution by Sex\")\n",
    "plt.legend()"
   ]
  },
  {
   "cell_type": "code",
   "execution_count": 6,
   "metadata": {},
   "outputs": [
    {
     "data": {
      "text/plain": [
       "<matplotlib.legend.Legend at 0x26a05d34148>"
      ]
     },
     "execution_count": 6,
     "metadata": {},
     "output_type": "execute_result"
    },
    {
     "data": {
      "image/png": "[encoded data removed]",
      "text/plain": [
       "<Figure size 432x288 with 1 Axes>"
      ]
     },
     "metadata": {},
     "output_type": "display_data"
    }
   ],
   "source": [
    "# Generate a pie plot showing the distribution of female versus male mice using pyplot\n",
    "sex = (mouse_metadata[\"Sex\"].unique())\n",
    "sex_counts = (mouse_metadata[\"Sex\"].value_counts())\n",
    "plt.pie(sex_counts, labels=sex, autopct=\"%1.1f%%\")\n",
    "plt.title(\"Mouse Distribution by Sex\")\n",
    "plt.legend(loc=\"best\")"
   ]
  },
  {
   "cell_type": "markdown",
   "metadata": {},
   "source": [
    "## Quartiles, outliers and boxplots"
   ]
  },
  {
   "cell_type": "code",
   "execution_count": 7,
   "metadata": {},
   "outputs": [
    {
     "name": "stdout",
     "output_type": "stream",
     "text": [
      "          Tumor Volume (mm3) - Final\n",
      "Mouse ID                            \n",
      "a275                       62.999356\n",
      "a411                       38.407618\n",
      "a444                       43.047543\n",
      "a520                       38.810366\n",
      "a644                       32.978522\n",
      "\n",
      "The interquartile range for final tumor size is: 21.1733662325\n",
      "Values below 5.529789873749998 could be outliers.\n",
      "Values above 90.22325480375 could be outliers.\n",
      "\n",
      "The following dataframe identifies mice that are potential outliers:\n",
      "Empty DataFrame\n",
      "Columns: [Tumor Volume (mm3) - Final]\n",
      "Index: []\n",
      "\n",
      "There are no outliers.\n"
     ]
    }
   ],
   "source": [
    "# Calculate the final tumor volume of each mouse across four of the most promising treatment regimens. Calculate the IQR and quantitatively determine if there are any potential outliers. \n",
    "\n",
    "#I determined that Ramicane, Capomulin, Propriva, Ceftamin were the four most promising treatment regimens as they either decreased the tumor size or the tumor growth was not as great.\n",
    "promising_treatments_df = combined_df.loc[(combined_df[\"Drug Regimen\"] == 'Ramicane') | (combined_df[\"Drug Regimen\"] == 'Capomulin') | (combined_df[\"Drug Regimen\"] == 'Propriva') | (combined_df[\"Drug Regimen\"] == 'Ceftamin')]\n",
    "grouped_promising_treatments = promising_treatments_df.groupby(\"Mouse ID\")\n",
    "final_tumor_size_df = pd.DataFrame(grouped_promising_treatments[\"Tumor Volume (mm3)\"].last())\n",
    "final_tumor_size_df = final_tumor_size_df.rename(columns = {\"Tumor Volume (mm3)\":\"Tumor Volume (mm3) - Final\"})\n",
    "final_tumor_size = final_tumor_size_df[\"Tumor Volume (mm3) - Final\"]\n",
    "\n",
    "tumor_quartiles = final_tumor_size.quantile([.25,.5,.75])\n",
    "lowerq = tumor_quartiles[0.25]\n",
    "upperq = tumor_quartiles[0.75]\n",
    "iqr = upperq-lowerq\n",
    "\n",
    "final_tumor_size_df[\"Tumor Volume (mm3) - Final\"]\n",
    "print(final_tumor_size_df.head())\n",
    "print(\"\")\n",
    "print(f\"The interquartile range for final tumor size is: {iqr}\")\n",
    "lower_bound = lowerq - (1.5*iqr)\n",
    "upper_bound = upperq + (1.5*iqr)\n",
    "print(f\"Values below {lower_bound} could be outliers.\")\n",
    "print(f\"Values above {upper_bound} could be outliers.\")\n",
    "print(\"\")\n",
    "print(f\"The following dataframe identifies mice that are potential outliers:\")\n",
    "print(final_tumor_size_df.loc[(final_tumor_size_df[\"Tumor Volume (mm3) - Final\"] > upper_bound) | (final_tumor_size_df[\"Tumor Volume (mm3) - Final\"] < lower_bound)])\n",
    "print(\"\")\n",
    "print(\"There are no outliers.\")"
   ]
  },
  {
   "cell_type": "code",
   "execution_count": 8,
   "metadata": {},
   "outputs": [
    {
     "data": {
      "image/png": "[encoded data removed]",
      "text/plain": [
       "<Figure size 432x288 with 1 Axes>"
      ]
     },
     "metadata": {
      "needs_background": "light"
     },
     "output_type": "display_data"
    }
   ],
   "source": [
    "# Generate a box plot of the final tumor volume of each mouse across four regimens of interest\n",
    "fig1, ax1 = plt.subplots()\n",
    "\n",
    "ramican_df = combined_df.loc[combined_df[\"Drug Regimen\"] == 'Ramicane']\n",
    "ramican_grouped = ramican_df.groupby(\"Mouse ID\")\n",
    "\n",
    "capomulin_df = combined_df.loc[combined_df[\"Drug Regimen\"] == 'Capomulin']\n",
    "capomulin_grouped = capomulin_df.groupby(\"Mouse ID\")\n",
    "\n",
    "propriva_df = combined_df.loc[combined_df[\"Drug Regimen\"] == 'Propriva']\n",
    "propriva_grouped = propriva_df.groupby(\"Mouse ID\")\n",
    "\n",
    "ceftamin_df = combined_df.loc[combined_df[\"Drug Regimen\"] == 'Ceftamin']\n",
    "ceftamin_grouped = ceftamin_df.groupby(\"Mouse ID\")\n",
    "\n",
    "#colors outliers if there were outliers\n",
    "flierprops = dict(marker='o', markerfacecolor='r', markersize=12,\n",
    "                  linestyle='none', markeredgecolor='g')\n",
    "\n",
    "\n",
    "ax1.boxplot([ramican_grouped[\"Tumor Volume (mm3)\"].last(), capomulin_grouped[\"Tumor Volume (mm3)\"].last(), propriva_grouped[\"Tumor Volume (mm3)\"].last(), ceftamin_grouped[\"Tumor Volume (mm3)\"].last()], flierprops=flierprops)\n",
    "\n",
    "plt.xticks([1,2,3,4],[\"Ramican\",\"Capomulin\",\"Propriva\",\"Ceftamin\"])\n",
    "plt.title(\"Final Tumor Size for Regimens of Interest\")\n",
    "plt.xlabel(\"Drug Regimens\")\n",
    "plt.ylabel(\"Tumor Volume (mm3)\")\n",
    "plt.show()"
   ]
  },
  {
   "cell_type": "markdown",
   "metadata": {},
   "source": [
    "## Line and scatter plots"
   ]
  },
  {
   "cell_type": "code",
   "execution_count": 9,
   "metadata": {},
   "outputs": [
    {
     "data": {
      "text/plain": [
       "(23.16739732, 50.47375302)"
      ]
     },
     "execution_count": 9,
     "metadata": {},
     "output_type": "execute_result"
    },
    {
     "data": {
      "image/png": "[encoded data removed]",
      "text/plain": [
       "<Figure size 432x288 with 1 Axes>"
      ]
     },
     "metadata": {
      "needs_background": "light"
     },
     "output_type": "display_data"
    }
   ],
   "source": [
    "# Generate a line plot of time point versus tumor volume for a mouse treated with Capomulin\n",
    "selected_mouse = combined_df.loc[combined_df[\"Mouse ID\"] == 'x401']\n",
    "x_axis = selected_mouse[\"Timepoint\"]\n",
    "y_axis = selected_mouse[\"Tumor Volume (mm3)\"]\n",
    "plt.plot(x_axis, y_axis)\n",
    "plt.title(\"Tumor Size Over Time for Capomulin Regimen (x401)\")\n",
    "plt.xlabel(\"Time\")\n",
    "plt.ylabel(\"Tumor Volume (mm3)\")\n",
    "plt.xlim(0, max(x_axis))\n",
    "plt.ylim(min(y_axis)-5, max(y_axis) + 5)"
   ]
  },
  {
   "cell_type": "code",
   "execution_count": 10,
   "metadata": {},
   "outputs": [
    {
     "data": {
      "text/plain": [
       "Text(0.5, 1.0, 'Average Tumor Volume vs Weight (Capomulin)')"
      ]
     },
     "execution_count": 10,
     "metadata": {},
     "output_type": "execute_result"
    },
    {
     "data": {
      "image/png": "[encoded data removed]",
      "text/plain": [
       "<Figure size 432x288 with 1 Axes>"
      ]
     },
     "metadata": {
      "needs_background": "light"
     },
     "output_type": "display_data"
    }
   ],
   "source": [
    "# Generate a scatter plot of mouse weight versus average tumor volume for the Capomulin regimen\n",
    "tumor_volume_capo = capomulin_grouped[\"Tumor Volume (mm3)\"].mean()\n",
    "weight_capo = capomulin_grouped[\"Weight (g)\"].mean()\n",
    "plt.scatter(tumor_volume_capo,weight_capo)\n",
    "plt.xlabel(\"Average Tumor Volume\")\n",
    "plt.ylabel(\"Weight\")\n",
    "plt.title(\"Average Tumor Volume vs Weight (Capomulin)\")\n",
    "\n"
   ]
  },
  {
   "cell_type": "code",
   "execution_count": 11,
   "metadata": {},
   "outputs": [
    {
     "name": "stdout",
     "output_type": "stream",
     "text": [
      "The correlation coefficient between Tumor Volume and Weight for the Capomulin Regimen is 0.84\n",
      "\n",
      "Linear Regression Model: y = 0.74 x + -10.15\n"
     ]
    },
    {
     "data": {
      "image/png": "[encoded data removed]",
      "text/plain": [
       "<Figure size 432x288 with 1 Axes>"
      ]
     },
     "metadata": {
      "needs_background": "light"
     },
     "output_type": "display_data"
    }
   ],
   "source": [
    "# Calculate the correlation coefficient and linear regression model for mouse weight and average tumor volume for the Capomulin regimen\n",
    "print(f\"The correlation coefficient between Tumor Volume and Weight for the Capomulin Regimen is {round(st.pearsonr(tumor_volume_capo,weight_capo)[0],2)}\")\n",
    "\n",
    "(slope, intercept, rvalue, pvalue, stderr) = st.linregress(tumor_volume_capo, weight_capo)\n",
    "regress_values = tumor_volume_capo * slope + intercept\n",
    "\n",
    "plt.scatter(tumor_volume_capo,weight_capo)\n",
    "plt.xlabel(\"Average Tumor Volume\")\n",
    "plt.ylabel(\"Weight\")\n",
    "plt.title(\"Average Tumor Volume vs Weight (Capomulin)\")\n",
    "plt.plot(tumor_volume_capo,regress_values,\"r-\")\n",
    "print(\"\")\n",
    "print(f'Linear Regression Model: y = {round(slope,2)} x + {round(intercept,2)}')"
   ]
  },
  {
   "cell_type": "code",
   "execution_count": null,
   "metadata": {},
   "outputs": [],
   "source": []
  }
 ],
 "metadata": {
  "anaconda-cloud": {},
  "kernelspec": {
   "display_name": "Python 3.7.4 64-bit ('base': conda)",
   "language": "python",
   "name": "python37464bitbasecondae23b6954b40a4ff4aa0c89b9b80c30af"
  },
  "language_info": {
   "codemirror_mode": {
    "name": "ipython",
    "version": 3
   },
   "file_extension": ".py",
   "mimetype": "text/x-python",
   "name": "python",
   "nbconvert_exporter": "python",
   "pygments_lexer": "ipython3",
   "version": "3.7.4"
  }
 },
 "nbformat": 4,
 "nbformat_minor": 2
}
